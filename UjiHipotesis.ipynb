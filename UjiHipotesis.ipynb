{
  "nbformat": 4,
  "nbformat_minor": 0,
  "metadata": {
    "colab": {
      "provenance": [],
      "authorship_tag": "ABX9TyPLeJ09a6UnN77YRkGcPK4X",
      "include_colab_link": true
    },
    "kernelspec": {
      "name": "python3",
      "display_name": "Python 3"
    },
    "language_info": {
      "name": "python"
    }
  },
  "cells": [
    {
      "cell_type": "markdown",
      "metadata": {
        "id": "view-in-github",
        "colab_type": "text"
      },
      "source": [
        "<a href=\"https://colab.research.google.com/github/Aldistwn29/data-science-newbe/blob/main/UjiHipotesis.ipynb\" target=\"_parent\"><img src=\"https://colab.research.google.com/assets/colab-badge.svg\" alt=\"Open In Colab\"/></a>"
      ]
    },
    {
      "cell_type": "code",
      "execution_count": 7,
      "metadata": {
        "id": "rQ2wUxigpw8-"
      },
      "outputs": [],
      "source": [
        "import numpy as np\n",
        "import pandas as pd\n",
        "import seaborn as sns\n",
        "import matplotlib.pyplot as plt"
      ]
    },
    {
      "cell_type": "markdown",
      "source": [
        "**Contoh Pengujian Hipotesis Satu Populasi**"
      ],
      "metadata": {
        "id": "7z9RC6uSqvzi"
      }
    },
    {
      "cell_type": "markdown",
      "source": [
        "**Mengghitung Secara Manual**"
      ],
      "metadata": {
        "id": "_yZTwB8Gq8s0"
      }
    },
    {
      "cell_type": "code",
      "source": [
        "nilai = [74, 49, 68, 86, 80, 71, 77, 81, 72, 77]"
      ],
      "metadata": {
        "id": "2RS-W4QosOtt"
      },
      "execution_count": null,
      "outputs": []
    },
    {
      "cell_type": "markdown",
      "source": [
        "**t stat**"
      ],
      "metadata": {
        "id": "VRis-0mVxxx1"
      }
    },
    {
      "cell_type": "code",
      "source": [
        "x_bar = np.mean(nilai)\n",
        "mu = 80\n",
        "s = np.std(nilai, ddof = 1)\n",
        "n = len(nilai)\n",
        "\n",
        "t_stat = (x_bar - mu) / (s / np.sqrt(n))\n",
        "print(t_stat)\n"
      ],
      "metadata": {
        "colab": {
          "base_uri": "https://localhost:8080/"
        },
        "id": "iRgSbF6erDcS",
        "outputId": "605016c0-f794-48ba-a3eb-e661ac86adff"
      },
      "execution_count": null,
      "outputs": [
        {
          "output_type": "stream",
          "name": "stdout",
          "text": [
            "-2.0346749160869684\n"
          ]
        }
      ]
    },
    {
      "cell_type": "markdown",
      "source": [
        "**t kritis**"
      ],
      "metadata": {
        "id": "2TRTBhO5xsDk"
      }
    },
    {
      "cell_type": "code",
      "source": [
        "from scipy.stats import t\n",
        "t.ppf(0.05, n - 1)"
      ],
      "metadata": {
        "colab": {
          "base_uri": "https://localhost:8080/"
        },
        "id": "guKR74EWw8RK",
        "outputId": "3ac017c6-bcc2-45d2-95cc-21dc51d2ef51"
      },
      "execution_count": null,
      "outputs": [
        {
          "output_type": "execute_result",
          "data": {
            "text/plain": [
              "-1.8331129326536337"
            ]
          },
          "metadata": {},
          "execution_count": 11
        }
      ]
    },
    {
      "cell_type": "markdown",
      "source": [
        "**Menggunakan function python**"
      ],
      "metadata": {
        "id": "7rN5uIXux4tR"
      }
    },
    {
      "cell_type": "code",
      "source": [
        "from scipy.stats import ttest_1samp"
      ],
      "metadata": {
        "id": "51skX0tW3YBm"
      },
      "execution_count": null,
      "outputs": []
    },
    {
      "cell_type": "code",
      "source": [
        "t_stat, p_value = ttest_1samp(nilai, 80)"
      ],
      "metadata": {
        "id": "xKrVU4Cf3kou"
      },
      "execution_count": null,
      "outputs": []
    },
    {
      "cell_type": "code",
      "source": [
        "t_stat"
      ],
      "metadata": {
        "colab": {
          "base_uri": "https://localhost:8080/"
        },
        "id": "JgrdBKOA4Cbt",
        "outputId": "270b9958-fa99-4779-fc77-a62baaa625aa"
      },
      "execution_count": null,
      "outputs": [
        {
          "output_type": "execute_result",
          "data": {
            "text/plain": [
              "-2.0346749160869684"
            ]
          },
          "metadata": {},
          "execution_count": 15
        }
      ]
    },
    {
      "cell_type": "markdown",
      "source": [
        "**Contoh Pengujian Dua Populasi**"
      ],
      "metadata": {
        "id": "WdVaF6rJ4Um9"
      }
    },
    {
      "cell_type": "markdown",
      "source": [
        "**Dua Populasi Saling Bebas**"
      ],
      "metadata": {
        "id": "u8u_Q10h-v80"
      }
    },
    {
      "cell_type": "code",
      "source": [
        "# from scipy.stats import norm\n",
        "norm.rvs(loc = 70, scale = 10, size = 10).round().astype(\"int\")"
      ],
      "metadata": {
        "colab": {
          "base_uri": "https://localhost:8080/"
        },
        "id": "Ht9C8OR04boO",
        "outputId": "2c553a6d-8f3e-4e81-89fd-46fb6e49e2ff"
      },
      "execution_count": null,
      "outputs": [
        {
          "output_type": "execute_result",
          "data": {
            "text/plain": [
              "array([54, 65, 68, 73, 71, 66, 86, 95, 61, 70])"
            ]
          },
          "metadata": {},
          "execution_count": 38
        }
      ]
    },
    {
      "cell_type": "code",
      "source": [
        "kelas_1 = [74, 49, 68, 86, 80, 71, 77, 81, 72, 77]\n",
        "kelas_2 = [78, 57, 65, 82, 73, 76, 54, 58]"
      ],
      "metadata": {
        "id": "yne7TsZ56Kwz"
      },
      "execution_count": null,
      "outputs": []
    },
    {
      "cell_type": "code",
      "source": [
        "x_bar1 = np.mean(kelas_1)\n",
        "s1 = np.std(kelas_1, ddof = 1)\n",
        "n1 = len(kelas_1)\n",
        "\n",
        "x_bar2 = np.mean(kelas_2)\n",
        "s2 = np.std(kelas_2, ddof = 1)\n",
        "n2 = len(kelas_2)"
      ],
      "metadata": {
        "id": "_qlLX2Eb6fpi"
      },
      "execution_count": null,
      "outputs": []
    },
    {
      "cell_type": "code",
      "source": [
        "print(f\"Standar deviasi kelas 1 : {s1}\")\n",
        "print(f\"Standar deviasi kelas 2 : {s2}\")"
      ],
      "metadata": {
        "colab": {
          "base_uri": "https://localhost:8080/"
        },
        "id": "Tc86H2Ci7QSx",
        "outputId": "61019558-c805-4e59-ba92-5179659de8cc"
      },
      "execution_count": null,
      "outputs": [
        {
          "output_type": "stream",
          "name": "stdout",
          "text": [
            "Standar deviasi kelas 1 : 10.102254973794492\n",
            "Standar deviasi kelas 2 : 10.76286605483343\n"
          ]
        }
      ]
    },
    {
      "cell_type": "code",
      "source": [
        "df = n1 + n2 - 2\n",
        "sp = np.sqrt(((n1 - 1) * np.power(s1, 2) + (n2 - 1) * np.power(s2, 2)) / df)"
      ],
      "metadata": {
        "id": "8A-5U5qV7vmS"
      },
      "execution_count": null,
      "outputs": []
    },
    {
      "cell_type": "code",
      "source": [
        "t_stat = (x_bar1 - x_bar2) / (sp * np.sqrt(1/n1 + 1/n2))\n",
        "print(t_stat)"
      ],
      "metadata": {
        "colab": {
          "base_uri": "https://localhost:8080/"
        },
        "id": "k9dZ0thF8VF4",
        "outputId": "5986b770-964f-4ab9-8f2b-0daaa7928ad8"
      },
      "execution_count": null,
      "outputs": [
        {
          "output_type": "stream",
          "name": "stdout",
          "text": [
            "1.140634940065406\n"
          ]
        }
      ]
    },
    {
      "cell_type": "code",
      "source": [
        "from scipy.stats import ttest_ind"
      ],
      "metadata": {
        "id": "w5NnavOW9U-D"
      },
      "execution_count": null,
      "outputs": []
    },
    {
      "cell_type": "code",
      "source": [
        "t_stat, p_value = ttest_ind(kelas_1, kelas_2, equal_var = True)"
      ],
      "metadata": {
        "id": "4G5XlJ-f9qIs"
      },
      "execution_count": null,
      "outputs": []
    },
    {
      "cell_type": "code",
      "source": [
        "if p_value < 0.05:\n",
        "  print(\"Nilai Kelas 1 dan Kelas 2 berbeda\")\n",
        "else:\n",
        "  print(\"Nilai Kelas 1 dan Kelas 2 sama\")"
      ],
      "metadata": {
        "colab": {
          "base_uri": "https://localhost:8080/"
        },
        "id": "OLhS-mFo974h",
        "outputId": "fb153afe-a390-43e6-cdd1-5f57ca277bae"
      },
      "execution_count": null,
      "outputs": [
        {
          "output_type": "stream",
          "name": "stdout",
          "text": [
            "Nilai Kelas 1 dan Kelas 2 sama\n"
          ]
        }
      ]
    },
    {
      "cell_type": "code",
      "source": [
        "p_value"
      ],
      "metadata": {
        "colab": {
          "base_uri": "https://localhost:8080/"
        },
        "id": "z38AsdAW-YvX",
        "outputId": "5f8bb7a2-36b6-4abf-a221-911508cefbd9"
      },
      "execution_count": null,
      "outputs": [
        {
          "output_type": "execute_result",
          "data": {
            "text/plain": [
              "0.2708083866673808"
            ]
          },
          "metadata": {},
          "execution_count": 60
        }
      ]
    },
    {
      "cell_type": "markdown",
      "source": [
        "**Contoh Pengujian Hipotesis Dua Populasi Berpasangan**"
      ],
      "metadata": {
        "id": "bFyWvvqQx6C7"
      }
    },
    {
      "cell_type": "code",
      "source": [
        "sebelum = [59, 71, 64, 75, 75, 61, 52, 66, 71, 69]\n",
        "sesudah = [98, 91, 86, 72, 77, 54, 69, 89, 66, 87]"
      ],
      "metadata": {
        "id": "9kj69XbpyGmp"
      },
      "execution_count": 4,
      "outputs": []
    },
    {
      "cell_type": "code",
      "source": [
        "beda = np.array(sesudah) - np.array(sebelum)\n",
        "x_beda = np.mean(beda)\n",
        "sd = np.std(beda, ddof = 1)\n",
        "n = len(beda)\n",
        "mu = 0"
      ],
      "metadata": {
        "id": "rUmsHNSIyqss"
      },
      "execution_count": 8,
      "outputs": []
    },
    {
      "cell_type": "code",
      "source": [
        "t_stat = (x_beda - mu) / (sd / np.sqrt(n))"
      ],
      "metadata": {
        "id": "Sx7C1WW1zDTc"
      },
      "execution_count": 10,
      "outputs": []
    },
    {
      "cell_type": "code",
      "source": [
        "t_stat"
      ],
      "metadata": {
        "colab": {
          "base_uri": "https://localhost:8080/"
        },
        "id": "4-lq7CZ0z9Ou",
        "outputId": "5371dba0-9e10-4700-8f18-47dcd95bf47d"
      },
      "execution_count": 11,
      "outputs": [
        {
          "output_type": "execute_result",
          "data": {
            "text/plain": [
              "2.6423876827871844"
            ]
          },
          "metadata": {},
          "execution_count": 11
        }
      ]
    },
    {
      "cell_type": "markdown",
      "source": [
        "**Menggunakan Function phyton**"
      ],
      "metadata": {
        "id": "EKHWNllW0Huf"
      }
    },
    {
      "cell_type": "code",
      "source": [
        "from scipy.stats import ttest_rel"
      ],
      "metadata": {
        "id": "FQytMBzV0M-J"
      },
      "execution_count": 12,
      "outputs": []
    },
    {
      "cell_type": "code",
      "source": [
        "t_stat, p_value = ttest_rel(sesudah, sebelum)"
      ],
      "metadata": {
        "id": "s87l3e1p0URj"
      },
      "execution_count": 13,
      "outputs": []
    },
    {
      "cell_type": "code",
      "source": [
        "if p_value < 0.05:\n",
        "  print(\"Nilai sesudah berbeda daripada Nilai sebelum\")\n",
        "else:\n",
        "  print(\"Nilai Sesudah sama dengan Nilai Sebelum\")"
      ],
      "metadata": {
        "colab": {
          "base_uri": "https://localhost:8080/"
        },
        "id": "Hpx-Fgv90ixs",
        "outputId": "32d7b98a-a00a-48f5-bc5a-3d1373e9d869"
      },
      "execution_count": 14,
      "outputs": [
        {
          "output_type": "stream",
          "name": "stdout",
          "text": [
            "Nilai sesudah berbeda daripada Nilai sebelum\n"
          ]
        }
      ]
    },
    {
      "cell_type": "code",
      "source": [
        "t_stat"
      ],
      "metadata": {
        "colab": {
          "base_uri": "https://localhost:8080/"
        },
        "id": "CwAIFlsm0_By",
        "outputId": "2836e97b-a46d-4a01-fa82-f1113d2cbc56"
      },
      "execution_count": 15,
      "outputs": [
        {
          "output_type": "execute_result",
          "data": {
            "text/plain": [
              "2.6423876827871844"
            ]
          },
          "metadata": {},
          "execution_count": 15
        }
      ]
    },
    {
      "cell_type": "markdown",
      "source": [
        "**Uji Perbedaan Proporsi**"
      ],
      "metadata": {
        "id": "wqpKzIh03TT7"
      }
    },
    {
      "cell_type": "markdown",
      "source": [
        "**Dua Populasi Saling Bebas**"
      ],
      "metadata": {
        "id": "lsaONrh-654e"
      }
    },
    {
      "cell_type": "code",
      "source": [
        "Perempuan_selamat = 233\n",
        "total_perempuan = 314\n",
        "laki_selamat = 109\n",
        "total_laki = 577"
      ],
      "metadata": {
        "id": "MD5Qg5EU3gf6"
      },
      "execution_count": 19,
      "outputs": []
    },
    {
      "cell_type": "code",
      "source": [
        "Proporsi_perempuan = Perempuan_selamat / total_perempuan\n",
        "Proporsi_laki = laki_selamat / total_laki\n",
        "\n",
        "Prop_gabungan = (Perempuan_selamat + laki_selamat) / (total_perempuan + total_laki)\n"
      ],
      "metadata": {
        "id": "Iu9d1qMG7a5z"
      },
      "execution_count": 24,
      "outputs": []
    },
    {
      "cell_type": "code",
      "source": [
        "t_stat = (Proporsi_perempuan - Proporsi_laki) / np.sqrt(Prop_gabungan * (1 - Prop_gabungan) * (1/ total_perempuan + 1 / total_laki) )\n",
        "print(t_stat)"
      ],
      "metadata": {
        "colab": {
          "base_uri": "https://localhost:8080/"
        },
        "id": "U1Ikschl8fnA",
        "outputId": "d35cd497-412b-4126-e575-2d031244973e"
      },
      "execution_count": 29,
      "outputs": [
        {
          "output_type": "stream",
          "name": "stdout",
          "text": [
            "16.218833930670097\n"
          ]
        }
      ]
    },
    {
      "cell_type": "markdown",
      "source": [
        "**Menggunakan Modul Phyton**"
      ],
      "metadata": {
        "id": "nD55Bp1d-5Bt"
      }
    },
    {
      "cell_type": "code",
      "source": [
        "from statsmodels.stats.proportion import proportions_ztest"
      ],
      "metadata": {
        "id": "Gnc8hzS0-3pp"
      },
      "execution_count": 30,
      "outputs": []
    },
    {
      "cell_type": "code",
      "source": [
        "proportions_ztest([Perempuan_selamat, laki_selamat], [total_perempuan, total_laki])"
      ],
      "metadata": {
        "colab": {
          "base_uri": "https://localhost:8080/"
        },
        "id": "0QsTokdD_N4r",
        "outputId": "55533503-32c0-4f3b-b9e5-d0417ef7526c"
      },
      "execution_count": 31,
      "outputs": [
        {
          "output_type": "execute_result",
          "data": {
            "text/plain": [
              "(16.218833930670097, 3.7117477701134797e-59)"
            ]
          },
          "metadata": {},
          "execution_count": 31
        }
      ]
    },
    {
      "cell_type": "markdown",
      "source": [
        "# Melihat Tingkat Surviaval antara laki dan Perempuan"
      ],
      "metadata": {
        "id": "hPp5wARhAIxU"
      }
    },
    {
      "cell_type": "code",
      "source": [
        "Proporsi_perempuan #jika dalam persen 74%"
      ],
      "metadata": {
        "colab": {
          "base_uri": "https://localhost:8080/"
        },
        "id": "bHFKFMrc__u5",
        "outputId": "86be58af-ee67-4045-f91a-23a9a8b58d35"
      },
      "execution_count": 32,
      "outputs": [
        {
          "output_type": "execute_result",
          "data": {
            "text/plain": [
              "0.7420382165605095"
            ]
          },
          "metadata": {},
          "execution_count": 32
        }
      ]
    },
    {
      "cell_type": "code",
      "source": [
        "Proporsi_laki # jika dalam persen 18%"
      ],
      "metadata": {
        "colab": {
          "base_uri": "https://localhost:8080/"
        },
        "id": "gRiD0DSeAsy7",
        "outputId": "49927217-1d93-4521-ca5d-5f254f79a623"
      },
      "execution_count": 33,
      "outputs": [
        {
          "output_type": "execute_result",
          "data": {
            "text/plain": [
              "0.18890814558058924"
            ]
          },
          "metadata": {},
          "execution_count": 33
        }
      ]
    },
    {
      "cell_type": "markdown",
      "source": [],
      "metadata": {
        "id": "S23shx1J-2_z"
      }
    }
  ]
}