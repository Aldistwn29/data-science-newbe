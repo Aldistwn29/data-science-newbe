{
  "nbformat": 4,
  "nbformat_minor": 0,
  "metadata": {
    "colab": {
      "provenance": [],
      "authorship_tag": "ABX9TyOCSGbP/XCkjMvSsj2vDIOo",
      "include_colab_link": true
    },
    "kernelspec": {
      "name": "python3",
      "display_name": "Python 3"
    },
    "language_info": {
      "name": "python"
    }
  },
  "cells": [
    {
      "cell_type": "markdown",
      "metadata": {
        "id": "view-in-github",
        "colab_type": "text"
      },
      "source": [
        "<a href=\"https://colab.research.google.com/github/Aldistwn29/data-science-newbe/blob/main/Probability.ipynb\" target=\"_parent\"><img src=\"https://colab.research.google.com/assets/colab-badge.svg\" alt=\"Open In Colab\"/></a>"
      ]
    },
    {
      "cell_type": "code",
      "execution_count": 4,
      "metadata": {
        "id": "931XddiaVE8K"
      },
      "outputs": [],
      "source": [
        "import numpy as pd\n",
        "import pandas as pd\n",
        "import seaborn as sns\n",
        "import matplotlib.pyplot as plt"
      ]
    },
    {
      "cell_type": "markdown",
      "source": [
        "**DISTRIBUSI DISKRET**"
      ],
      "metadata": {
        "id": "pZPoTQmqV1zq"
      }
    },
    {
      "cell_type": "markdown",
      "source": [
        "**Distribusi Bernoulli**"
      ],
      "metadata": {
        "id": "ESws7Q0JV_YC"
      }
    },
    {
      "cell_type": "code",
      "source": [
        "# import library statistika\n",
        "from scipy.stats import bernoulli\n",
        "koin = bernoulli.rvs(size = 1000, p = 0.5)\n",
        "\n",
        "# Membuat plot\n",
        "sns.histplot(koin)\n",
        "plt.show()"
      ],
      "metadata": {
        "colab": {
          "base_uri": "https://localhost:8080/",
          "height": 430
        },
        "id": "NdtOJNQPV9_L",
        "outputId": "ca32f786-4add-4a1a-c47c-56cd1910e8b3"
      },
      "execution_count": null,
      "outputs": [
        {
          "output_type": "display_data",
          "data": {
            "text/plain": [
              "<Figure size 640x480 with 1 Axes>"
            ],
            "image/png": "[encoded data removed]"
          },
          "metadata": {}
        }
      ]
    },
    {
      "cell_type": "code",
      "source": [
        "koin"
      ],
      "metadata": {
        "colab": {
          "base_uri": "https://localhost:8080/"
        },
        "id": "vg1dY3t-YBRc",
        "outputId": "a67bcfe3-f7b5-4432-ae0b-951d00eb21f1"
      },
      "execution_count": null,
      "outputs": [
        {
          "output_type": "execute_result",
          "data": {
            "text/plain": [
              "array([1, 0, 1, 0, 0, 1, 1, 0, 1, 0, 1, 1, 0, 0, 0, 1, 0, 0, 1, 1, 1, 1,\n",
              "       0, 1, 0, 1, 1, 1, 1, 0, 1, 0, 0, 1, 0, 1, 1, 1, 0, 1, 0, 0, 0, 1,\n",
              "       0, 0, 0, 0, 0, 1, 0, 1, 1, 0, 1, 0, 1, 1, 0, 0, 0, 1, 0, 1, 1, 1,\n",
              "       1, 1, 1, 0, 1, 0, 0, 1, 1, 0, 1, 0, 1, 1, 1, 0, 0, 1, 1, 0, 0, 1,\n",
              "       1, 0, 1, 0, 0, 0, 1, 0, 0, 0, 1, 1, 0, 0, 1, 0, 1, 0, 1, 1, 1, 0,\n",
              "       1, 1, 1, 0, 1, 1, 0, 0, 1, 0, 0, 1, 1, 1, 0, 1, 1, 1, 1, 0, 0, 0,\n",
              "       1, 0, 1, 1, 0, 1, 1, 0, 1, 0, 0, 0, 0, 0, 1, 0, 1, 1, 0, 1, 0, 0,\n",
              "       1, 1, 1, 1, 1, 0, 1, 0, 0, 0, 1, 0, 0, 1, 0, 1, 1, 1, 1, 0, 0, 1,\n",
              "       0, 0, 0, 0, 0, 1, 1, 1, 0, 1, 1, 1, 0, 1, 1, 0, 1, 0, 1, 1, 1, 0,\n",
              "       1, 1, 1, 0, 1, 0, 1, 1, 0, 0, 1, 0, 0, 1, 1, 0, 1, 0, 0, 0, 1, 0,\n",
              "       1, 1, 0, 0, 1, 0, 1, 1, 1, 1, 0, 0, 0, 0, 1, 0, 0, 1, 1, 1, 0, 0,\n",
              "       0, 0, 0, 0, 0, 1, 1, 0, 0, 1, 0, 0, 0, 0, 0, 1, 0, 1, 1, 0, 1, 0,\n",
              "       0, 1, 0, 0, 0, 0, 1, 1, 0, 1, 0, 0, 1, 0, 1, 1, 1, 0, 0, 0, 1, 0,\n",
              "       1, 1, 1, 1, 1, 0, 1, 0, 1, 0, 1, 0, 1, 0, 0, 1, 1, 1, 0, 1, 1, 1,\n",
              "       0, 1, 1, 1, 1, 1, 1, 0, 1, 1, 0, 1, 1, 0, 1, 0, 0, 1, 0, 0, 1, 0,\n",
              "       1, 0, 0, 0, 0, 1, 1, 0, 0, 0, 0, 1, 1, 0, 0, 1, 1, 1, 1, 1, 0, 1,\n",
              "       1, 1, 0, 1, 1, 0, 0, 1, 1, 0, 1, 1, 0, 0, 1, 1, 1, 1, 1, 1, 0, 0,\n",
              "       1, 1, 1, 0, 0, 1, 0, 1, 1, 1, 0, 1, 1, 0, 1, 0, 0, 0, 1, 1, 1, 0,\n",
              "       1, 1, 1, 0, 0, 0, 0, 1, 0, 0, 1, 0, 1, 0, 0, 1, 1, 0, 1, 1, 0, 1,\n",
              "       0, 1, 1, 0, 0, 1, 0, 1, 0, 0, 1, 0, 1, 0, 0, 1, 1, 0, 0, 0, 1, 0,\n",
              "       0, 0, 1, 0, 1, 0, 0, 1, 1, 0, 0, 0, 0, 0, 1, 0, 1, 0, 1, 0, 0, 0,\n",
              "       1, 0, 0, 1, 0, 0, 1, 0, 0, 0, 0, 1, 1, 0, 0, 1, 0, 0, 0, 1, 1, 0,\n",
              "       0, 1, 0, 1, 1, 0, 1, 1, 1, 1, 1, 1, 0, 0, 1, 0, 0, 1, 1, 0, 0, 1,\n",
              "       1, 0, 1, 1, 0, 1, 0, 1, 0, 1, 1, 0, 1, 1, 1, 0, 1, 0, 0, 1, 0, 1,\n",
              "       0, 0, 1, 1, 0, 1, 1, 1, 0, 0, 0, 1, 1, 0, 0, 1, 1, 0, 1, 0, 0, 0,\n",
              "       1, 1, 0, 0, 0, 0, 1, 0, 1, 1, 0, 1, 0, 1, 0, 0, 1, 1, 0, 0, 0, 1,\n",
              "       1, 1, 0, 0, 1, 0, 1, 0, 0, 0, 1, 0, 0, 1, 1, 0, 0, 0, 1, 1, 0, 0,\n",
              "       0, 0, 1, 0, 0, 1, 0, 1, 0, 0, 1, 1, 1, 0, 0, 1, 1, 0, 0, 0, 1, 1,\n",
              "       0, 1, 0, 0, 1, 1, 1, 0, 1, 0, 1, 1, 0, 1, 0, 0, 1, 1, 0, 1, 1, 0,\n",
              "       1, 1, 0, 0, 1, 1, 0, 0, 1, 1, 0, 1, 1, 1, 1, 0, 1, 1, 0, 1, 1, 0,\n",
              "       0, 0, 1, 1, 1, 1, 0, 0, 0, 1, 0, 0, 0, 1, 0, 1, 1, 0, 1, 1, 1, 1,\n",
              "       1, 0, 1, 1, 1, 1, 0, 0, 1, 0, 0, 0, 0, 1, 1, 1, 1, 1, 0, 1, 1, 0,\n",
              "       0, 0, 0, 1, 1, 0, 1, 0, 1, 1, 1, 0, 0, 1, 0, 1, 0, 0, 1, 1, 0, 0,\n",
              "       0, 1, 1, 0, 1, 1, 1, 0, 1, 0, 0, 1, 0, 0, 0, 0, 1, 1, 0, 1, 1, 1,\n",
              "       1, 0, 1, 1, 0, 1, 1, 0, 1, 1, 0, 1, 1, 0, 1, 0, 0, 0, 0, 0, 0, 1,\n",
              "       0, 1, 1, 1, 1, 0, 0, 1, 1, 0, 1, 1, 0, 0, 0, 1, 1, 0, 1, 0, 0, 1,\n",
              "       1, 0, 0, 1, 1, 1, 1, 1, 0, 0, 0, 0, 1, 0, 1, 1, 1, 1, 0, 0, 0, 1,\n",
              "       1, 0, 0, 0, 0, 0, 1, 1, 1, 1, 1, 1, 1, 1, 0, 0, 1, 1, 1, 0, 1, 1,\n",
              "       0, 0, 1, 1, 1, 0, 1, 0, 1, 0, 0, 1, 1, 0, 1, 0, 1, 0, 0, 1, 1, 1,\n",
              "       1, 1, 0, 1, 1, 1, 0, 0, 0, 0, 0, 0, 1, 0, 1, 1, 1, 1, 0, 1, 0, 1,\n",
              "       1, 1, 0, 0, 1, 1, 0, 1, 1, 0, 1, 1, 1, 0, 1, 0, 0, 1, 1, 0, 0, 0,\n",
              "       0, 1, 1, 0, 1, 1, 0, 0, 1, 0, 1, 0, 0, 0, 1, 0, 1, 0, 1, 0, 1, 1,\n",
              "       0, 1, 0, 1, 0, 0, 0, 0, 0, 1, 1, 1, 0, 0, 1, 1, 1, 1, 1, 0, 0, 1,\n",
              "       1, 0, 1, 0, 0, 0, 0, 0, 1, 1, 1, 1, 1, 1, 0, 0, 1, 0, 0, 1, 0, 1,\n",
              "       1, 1, 1, 1, 0, 1, 1, 0, 0, 1, 0, 1, 0, 1, 0, 1, 0, 0, 0, 0, 0, 0,\n",
              "       1, 0, 1, 0, 1, 1, 0, 1, 0, 1])"
            ]
          },
          "metadata": {},
          "execution_count": 10
        }
      ]
    },
    {
      "cell_type": "markdown",
      "source": [
        "**Distribusi Binomial**"
      ],
      "metadata": {
        "id": "ceMHRU_rYAh8"
      }
    },
    {
      "cell_type": "code",
      "source": [
        "# import Library statistika\n",
        "from scipy.stats import binom\n",
        "koin = binom.rvs(size = 1000, n = 10, p = 0.5)\n",
        "\n",
        "# Membuat plot\n",
        "sns.histplot(koin)\n",
        "plt.show()"
      ],
      "metadata": {
        "colab": {
          "base_uri": "https://localhost:8080/",
          "height": 430
        },
        "id": "oetQ2WyhbEfP",
        "outputId": "5dcda18d-ef06-4727-f65c-b8f726269c98"
      },
      "execution_count": null,
      "outputs": [
        {
          "output_type": "display_data",
          "data": {
            "text/plain": [
              "<Figure size 640x480 with 1 Axes>"
            ],
            "image/png": "[encoded data removed]"
          },
          "metadata": {}
        }
      ]
    },
    {
      "cell_type": "code",
      "source": [
        "koin"
      ],
      "metadata": {
        "colab": {
          "base_uri": "https://localhost:8080/"
        },
        "id": "W5yuHmwhb-9E",
        "outputId": "b2a492e2-70e0-480f-8cca-4aa8828dde0f"
      },
      "execution_count": null,
      "outputs": [
        {
          "output_type": "execute_result",
          "data": {
            "text/plain": [
              "array([ 4,  6,  5,  7,  3,  6,  5,  5,  6,  5,  6,  4,  5,  1,  6,  6,  7,\n",
              "        8,  3,  5,  3,  5,  3,  4,  3,  4,  5,  5,  6,  4,  3,  7,  2,  5,\n",
              "        5,  6,  6,  5,  7,  6,  5,  3,  7,  6,  8,  6,  4,  4,  6,  5,  1,\n",
              "        3,  9,  5,  1,  5,  7,  7,  2,  5,  9,  5,  3,  6,  4,  3,  5,  5,\n",
              "        3,  4,  6,  5,  5,  3,  5,  8,  5,  8,  5,  3,  4,  7,  6,  6,  4,\n",
              "        4,  7,  6,  4,  6,  5,  7,  5,  6,  7,  8,  6,  3,  6,  4,  6,  4,\n",
              "        3,  5,  2,  7,  7,  6,  5,  5,  8,  5,  5,  4,  5,  6,  6,  7,  6,\n",
              "        2,  5,  3,  3,  2,  4,  5,  5,  5,  7,  4,  7,  5,  4,  4,  5,  6,\n",
              "        6,  6,  5,  4,  5,  5,  7,  3,  5,  5,  4,  5,  5,  4,  8,  5,  3,\n",
              "        6,  8,  6,  4,  2,  3,  8,  5,  6,  5,  4,  6,  8,  6,  5,  5,  5,\n",
              "        4,  5,  6,  7,  6,  7,  5,  5,  7,  4,  3,  6,  6,  5,  4,  3,  8,\n",
              "        3,  5,  3,  5,  6,  4,  5,  7,  5,  7,  4,  3,  5,  3,  5,  2,  6,\n",
              "        7,  4,  3,  6,  7,  6,  5,  4,  5,  6,  4,  2,  3,  5,  8,  7,  7,\n",
              "        6,  5,  5,  5,  6,  3,  4,  6,  3,  5,  8,  6,  6,  7,  5,  6,  5,\n",
              "        3,  6,  6,  8,  2,  4,  7,  3,  6,  5,  4,  6,  5,  4,  5,  4,  6,\n",
              "        5,  3,  5,  7,  6,  4,  2,  7,  9,  4,  5,  5,  6,  5,  6,  5,  4,\n",
              "        5,  4,  3,  3,  6,  6,  6,  8,  7,  7,  3,  5,  7,  2,  5,  4,  4,\n",
              "        6,  2,  5,  7,  7,  6,  6,  7,  4,  3,  6,  6,  6,  5,  5,  3,  3,\n",
              "        5,  5,  8,  6,  3,  7,  4,  3,  5,  5,  8,  7,  5,  8,  4,  7,  5,\n",
              "        6,  6,  3,  9,  5,  5,  5,  6,  5,  5,  7,  6,  2,  5,  4,  5,  7,\n",
              "        6,  5,  4,  8,  4,  5,  7,  2,  4,  5,  4,  6,  5,  7,  5,  6,  6,\n",
              "        7,  4,  4,  4,  9,  4,  2,  4,  6,  5,  3,  4,  5,  2,  4,  4,  6,\n",
              "        5,  6,  6,  7,  5,  6,  5,  4,  6,  6,  4,  4,  2,  6,  4,  4,  4,\n",
              "        4,  7,  2,  5,  3,  4,  6,  5,  4,  6,  5,  6,  4,  2,  6,  8,  5,\n",
              "        4,  4,  4,  6,  6,  2,  2,  3,  6,  5,  8,  5,  6,  6,  7,  1,  6,\n",
              "        5,  7,  7,  7,  7,  7,  2,  6,  7,  2,  4,  8,  4,  5,  4,  7,  7,\n",
              "        7,  4,  4,  4,  4,  4,  5,  4,  6,  4,  3,  3,  5,  2,  6,  5,  4,\n",
              "        2,  5,  6,  2,  4,  4,  4,  6,  3,  6,  3,  7,  9,  4,  6,  4,  4,\n",
              "        8,  3,  2,  4,  6,  3,  2,  6,  7,  1,  4,  6,  4,  2,  6,  6,  4,\n",
              "        6,  4,  5,  4,  5,  4,  4,  4,  5,  4,  5,  4,  5,  5,  5,  4,  5,\n",
              "        5,  3,  9,  6,  5,  5,  5,  3,  5,  5,  4,  5,  7,  5,  5,  5,  3,\n",
              "        6,  6,  8,  3,  6,  5,  4,  5,  2,  5,  4,  9,  7,  5,  6,  6,  4,\n",
              "        7,  3,  6,  5,  3,  3,  6,  7,  7,  4,  4,  6,  4,  5,  5,  1,  5,\n",
              "        6,  7,  6,  4,  7,  4,  4,  6,  6, 10,  4,  4,  5,  4,  4,  4,  3,\n",
              "        6,  7,  8,  4,  7,  5,  5,  7,  6,  6,  7,  3,  4,  7,  8,  1,  3,\n",
              "        6,  5,  7,  3,  3,  5,  4,  5,  9,  5,  3,  7,  5,  5,  4,  7,  6,\n",
              "        5,  3,  7,  7,  4,  4,  5,  8,  4,  3,  6,  5,  4,  3,  6,  2,  6,\n",
              "        8,  6,  5,  6,  7,  7,  6,  5,  8,  6,  4,  6,  8,  4,  6,  8,  7,\n",
              "        4,  3,  5,  7,  6,  7,  4,  2,  8,  5,  4,  4,  4,  3,  3,  5,  3,\n",
              "        6,  5,  4,  5,  6,  4,  5,  8,  5,  3,  6,  5,  4,  5,  5,  5,  4,\n",
              "        5,  3,  6,  5,  5,  3,  4,  3,  6,  6,  3,  5,  5,  6,  3,  5,  7,\n",
              "        7,  7,  8,  5,  3,  6,  6,  4,  4,  6,  6,  6,  8,  7,  7,  3,  2,\n",
              "        4,  4,  5,  5,  5,  7,  3,  5,  3,  6,  6,  5,  2,  5,  4,  3,  6,\n",
              "        6,  3,  6,  8,  4,  6,  5,  7,  8,  6,  6,  3,  5,  4,  5,  7,  7,\n",
              "        7,  8,  6,  5,  5,  6,  5,  0,  2,  4,  6,  6,  1,  3,  4,  5,  4,\n",
              "        7,  6,  7,  4,  6,  2,  2,  4,  4,  4,  2,  5,  5,  5,  5,  5,  6,\n",
              "        5,  6,  3,  5,  6,  3,  6,  7,  8,  2,  5,  5,  5,  4,  3,  7,  6,\n",
              "        6,  4,  6,  3,  6,  2,  5,  4,  2,  7,  6,  3,  4,  5,  6,  5,  6,\n",
              "        7,  8,  6,  5,  6,  7,  7,  4,  5,  4,  7,  6,  7,  7,  6,  6,  6,\n",
              "        6,  6,  3,  6,  5,  5,  7,  3,  4,  6,  6,  4,  8,  5,  7,  8,  6,\n",
              "        8,  5,  3,  7,  7,  2,  7,  3,  2,  5,  3,  5,  4,  3,  6,  5,  8,\n",
              "        3,  5,  6,  6,  3,  5,  4,  4,  4,  5,  7,  5,  5,  3,  4,  6,  2,\n",
              "        9,  4,  4,  8,  6,  6,  3,  4,  6,  7,  5,  0,  2,  8,  5,  4,  5,\n",
              "        4,  5,  5,  4,  4,  3,  8,  3,  4,  7,  6,  4,  4,  1,  5,  5,  3,\n",
              "        5,  5,  4,  3,  6,  9,  3,  4,  8,  6,  5,  7,  4,  4,  4,  6,  6,\n",
              "        5,  7,  6,  3,  4,  4,  5,  5,  4,  7,  5,  8,  5,  4,  8,  5,  5,\n",
              "        6,  4,  4,  4,  1,  9,  6,  6,  2,  6,  5,  3,  7,  7,  3,  8,  8,\n",
              "        5,  5,  6,  8,  7,  6,  5,  5,  4,  4,  3,  2,  4,  6,  6,  6,  3,\n",
              "        5,  5,  5,  5,  5,  6,  4,  3,  5,  8,  4,  7,  7,  6])"
            ]
          },
          "metadata": {},
          "execution_count": 62
        }
      ]
    },
    {
      "cell_type": "markdown",
      "source": [
        "**Distribusi Poisson**"
      ],
      "metadata": {
        "id": "YhXzIDHiep5r"
      }
    },
    {
      "cell_type": "code",
      "source": [
        "from scipy.stats import poisson\n",
        "\n",
        "cacat = poisson.rvs(size = 1000, mu = 2)\n",
        "\n",
        "#Membuat plot\n",
        "sns.histplot(cacat)\n",
        "plt.show()"
      ],
      "metadata": {
        "colab": {
          "base_uri": "https://localhost:8080/",
          "height": 430
        },
        "id": "gKmUxygeev60",
        "outputId": "ba5448dc-74e0-45a4-ea5e-8e6f272e287d"
      },
      "execution_count": null,
      "outputs": [
        {
          "output_type": "display_data",
          "data": {
            "text/plain": [
              "<Figure size 640x480 with 1 Axes>"
            ],
            "image/png": "[encoded data removed]"
          },
          "metadata": {}
        }
      ]
    },
    {
      "cell_type": "code",
      "source": [
        "cacat"
      ],
      "metadata": {
        "colab": {
          "base_uri": "https://localhost:8080/"
        },
        "id": "r7L2OKcxgmj4",
        "outputId": "6bfd2099-5b38-40a9-aac9-95a54d4e45d8"
      },
      "execution_count": null,
      "outputs": [
        {
          "output_type": "execute_result",
          "data": {
            "text/plain": [
              "array([3, 2, 1, 0, 3, 3, 0, 2, 1, 2, 0, 0, 6, 0, 2, 1, 1, 3, 6, 4, 3, 0,\n",
              "       2, 5, 1, 0, 2, 0, 0, 0, 3, 0, 0, 1, 5, 0, 2, 1, 0, 4, 2, 3, 0, 4,\n",
              "       0, 1, 2, 1, 1, 3, 1, 2, 3, 1, 1, 2, 3, 1, 2, 2, 2, 1, 1, 1, 4, 6,\n",
              "       4, 3, 3, 3, 1, 3, 0, 1, 3, 4, 1, 2, 3, 3, 1, 0, 2, 5, 2, 3, 5, 2,\n",
              "       0, 1, 0, 3, 3, 1, 0, 4, 4, 4, 2, 2, 1, 0, 0, 3, 2, 2, 1, 3, 2, 1,\n",
              "       1, 2, 5, 3, 1, 0, 2, 4, 1, 2, 3, 2, 2, 1, 0, 1, 0, 1, 2, 2, 3, 6,\n",
              "       1, 3, 2, 5, 2, 3, 1, 4, 0, 1, 3, 0, 3, 3, 0, 2, 4, 4, 3, 2, 1, 3,\n",
              "       4, 1, 1, 3, 1, 2, 2, 3, 3, 4, 0, 3, 4, 1, 2, 2, 4, 5, 4, 4, 3, 0,\n",
              "       1, 0, 1, 1, 1, 3, 4, 3, 4, 0, 3, 1, 2, 1, 2, 0, 2, 2, 4, 3, 3, 0,\n",
              "       2, 3, 2, 1, 2, 2, 1, 1, 3, 2, 1, 2, 1, 1, 2, 2, 1, 1, 1, 1, 3, 4,\n",
              "       5, 2, 2, 4, 1, 3, 2, 2, 0, 3, 1, 2, 4, 5, 3, 5, 3, 2, 1, 1, 1, 0,\n",
              "       1, 1, 5, 1, 2, 4, 3, 2, 4, 2, 5, 3, 1, 3, 0, 2, 1, 1, 1, 0, 0, 1,\n",
              "       3, 4, 2, 1, 3, 0, 4, 4, 1, 4, 2, 2, 5, 6, 1, 2, 0, 2, 2, 4, 1, 3,\n",
              "       2, 2, 1, 1, 1, 4, 1, 1, 3, 4, 2, 3, 7, 2, 1, 0, 1, 2, 1, 2, 0, 5,\n",
              "       1, 1, 3, 1, 2, 5, 4, 0, 5, 2, 3, 0, 2, 3, 3, 1, 3, 1, 3, 4, 4, 0,\n",
              "       1, 1, 2, 1, 0, 3, 4, 0, 1, 3, 1, 5, 2, 4, 4, 1, 3, 3, 2, 1, 1, 1,\n",
              "       4, 0, 4, 1, 1, 3, 1, 2, 2, 0, 6, 3, 2, 1, 0, 1, 1, 0, 1, 1, 2, 4,\n",
              "       0, 1, 0, 5, 2, 3, 1, 0, 0, 2, 2, 4, 2, 3, 1, 1, 4, 1, 2, 1, 2, 4,\n",
              "       7, 2, 3, 4, 2, 2, 0, 0, 3, 5, 1, 1, 4, 2, 2, 2, 2, 4, 3, 3, 3, 1,\n",
              "       2, 3, 0, 0, 3, 3, 0, 1, 1, 0, 2, 2, 4, 4, 1, 2, 3, 3, 2, 4, 5, 3,\n",
              "       3, 5, 1, 2, 1, 1, 1, 3, 1, 4, 2, 6, 1, 1, 2, 1, 2, 2, 2, 2, 0, 0,\n",
              "       0, 1, 2, 2, 2, 2, 1, 2, 1, 2, 1, 2, 1, 3, 0, 3, 3, 3, 4, 4, 2, 1,\n",
              "       2, 1, 0, 4, 0, 1, 1, 2, 4, 2, 2, 1, 1, 1, 2, 4, 3, 3, 4, 0, 3, 0,\n",
              "       4, 4, 1, 4, 2, 1, 1, 2, 0, 0, 1, 1, 3, 2, 2, 1, 3, 0, 1, 1, 2, 3,\n",
              "       1, 2, 1, 1, 1, 2, 1, 2, 3, 1, 2, 3, 1, 1, 3, 0, 2, 3, 4, 4, 3, 0,\n",
              "       2, 2, 1, 0, 3, 2, 1, 3, 1, 2, 3, 2, 1, 3, 3, 0, 4, 2, 1, 1, 1, 1,\n",
              "       0, 0, 1, 2, 5, 2, 1, 0, 2, 2, 3, 4, 1, 3, 2, 3, 1, 2, 1, 3, 3, 5,\n",
              "       1, 1, 4, 3, 1, 1, 2, 1, 3, 1, 3, 3, 2, 3, 1, 2, 3, 3, 4, 2, 3, 0,\n",
              "       1, 1, 0, 1, 3, 0, 6, 1, 2, 2, 1, 1, 0, 5, 5, 0, 0, 1, 4, 1, 1, 4,\n",
              "       2, 2, 2, 3, 2, 2, 1, 2, 1, 2, 2, 2, 0, 2, 3, 4, 2, 3, 1, 1, 1, 2,\n",
              "       1, 3, 4, 1, 3, 2, 4, 2, 1, 3, 1, 3, 0, 1, 4, 5, 3, 1, 2, 3, 3, 0,\n",
              "       4, 3, 1, 3, 2, 1, 3, 1, 1, 4, 2, 3, 3, 1, 2, 3, 2, 1, 1, 3, 6, 1,\n",
              "       3, 1, 2, 2, 3, 1, 3, 2, 5, 2, 2, 3, 1, 3, 3, 3, 1, 1, 1, 2, 3, 1,\n",
              "       3, 1, 1, 2, 2, 1, 0, 2, 1, 0, 1, 2, 3, 1, 3, 1, 2, 1, 0, 0, 3, 4,\n",
              "       2, 6, 2, 2, 2, 1, 4, 0, 3, 1, 0, 1, 3, 1, 1, 1, 2, 0, 1, 0, 3, 3,\n",
              "       0, 2, 2, 0, 1, 3, 2, 1, 1, 0, 0, 1, 2, 2, 5, 0, 1, 5, 0, 1, 3, 3,\n",
              "       1, 3, 1, 2, 3, 2, 1, 2, 0, 4, 5, 3, 2, 1, 1, 2, 0, 3, 0, 3, 1, 2,\n",
              "       2, 5, 2, 4, 1, 2, 0, 2, 3, 0, 0, 3, 1, 4, 3, 0, 5, 3, 4, 0, 1, 2,\n",
              "       1, 2, 4, 5, 2, 2, 2, 3, 1, 2, 5, 0, 4, 2, 3, 2, 2, 1, 3, 0, 1, 2,\n",
              "       2, 0, 4, 1, 2, 0, 0, 3, 4, 3, 1, 1, 0, 4, 1, 1, 2, 2, 1, 0, 3, 4,\n",
              "       6, 2, 0, 0, 3, 0, 1, 2, 6, 1, 1, 4, 3, 1, 2, 5, 1, 3, 1, 1, 3, 1,\n",
              "       5, 3, 2, 1, 2, 0, 2, 3, 0, 2, 3, 3, 3, 1, 4, 3, 3, 1, 2, 1, 2, 1,\n",
              "       1, 3, 0, 0, 2, 2, 1, 3, 0, 3, 1, 1, 4, 2, 1, 1, 1, 3, 3, 2, 2, 0,\n",
              "       1, 1, 0, 5, 2, 2, 1, 4, 1, 2, 2, 3, 3, 2, 3, 2, 2, 2, 1, 2, 3, 0,\n",
              "       3, 3, 0, 2, 1, 2, 3, 4, 1, 1, 2, 1, 2, 1, 1, 4, 5, 1, 3, 1, 4, 0,\n",
              "       3, 1, 2, 4, 0, 4, 0, 1, 2, 0])"
            ]
          },
          "metadata": {},
          "execution_count": 65
        }
      ]
    },
    {
      "cell_type": "markdown",
      "source": [
        "**Distribusi Seragam**"
      ],
      "metadata": {
        "id": "17T0yXhUjUZz"
      }
    },
    {
      "cell_type": "code",
      "source": [
        "from scipy.stats import uniform\n",
        "\n",
        "uniform_data = uniform.rvs(size = 1000, loc = 0, scale = 9)\n",
        "\n",
        "#Membuat Plot\n",
        "sns.histplot(uniform_data)\n",
        "plt.show()"
      ],
      "metadata": {
        "colab": {
          "base_uri": "https://localhost:8080/",
          "height": 430
        },
        "id": "Zf2MCijOjYTu",
        "outputId": "8a7340e1-6fb9-469d-93cd-63024ee949e9"
      },
      "execution_count": null,
      "outputs": [
        {
          "output_type": "display_data",
          "data": {
            "text/plain": [
              "<Figure size 640x480 with 1 Axes>"
            ],
            "image/png": "[encoded data removed]"
          },
          "metadata": {}
        }
      ]
    },
    {
      "cell_type": "markdown",
      "source": [
        "**Distribusi Normal**"
      ],
      "metadata": {
        "id": "ER14q1E7gJkE"
      }
    },
    {
      "cell_type": "markdown",
      "source": [],
      "metadata": {
        "id": "arjpHjUPgNeZ"
      }
    },
    {
      "cell_type": "code",
      "source": [
        "from scipy.stats import norm\n",
        "\n",
        "data_nilai = norm.rvs(size = 1000, loc = 70, scale = 10)\n",
        "\n",
        "# Membuat plot\n",
        "sns.histplot(data_nilai)\n",
        "plt.show()"
      ],
      "metadata": {
        "colab": {
          "base_uri": "https://localhost:8080/",
          "height": 430
        },
        "id": "LsmVRSwnfBQ_",
        "outputId": "590d8505-997e-4d65-a354-03b6b41388dc"
      },
      "execution_count": 7,
      "outputs": [
        {
          "output_type": "display_data",
          "data": {
            "text/plain": [
              "<Figure size 640x480 with 1 Axes>"
            ],
            "image/png": "[encoded data removed]"
          },
          "metadata": {}
        }
      ]
    },
    {
      "cell_type": "markdown",
      "source": [
        "**Distribusi Eksponensial**"
      ],
      "metadata": {
        "id": "ALUUs1-Ki1EL"
      }
    },
    {
      "cell_type": "code",
      "source": [
        "from scipy.stats import expon\n",
        "\n",
        "data_tunggu = expon.rvs(scale = 1, loc = 5, size= 1000)\n",
        "\n",
        "# Membuat plot\n",
        "sns.histplot(data_tunggu)\n",
        "plt.show()"
      ],
      "metadata": {
        "colab": {
          "base_uri": "https://localhost:8080/",
          "height": 430
        },
        "id": "MX_NyAfpi52i",
        "outputId": "b13732d0-2ef6-4689-a0b1-1828a88c0ff1"
      },
      "execution_count": 8,
      "outputs": [
        {
          "output_type": "display_data",
          "data": {
            "text/plain": [
              "<Figure size 640x480 with 1 Axes>"
            ],
            "image/png": "[encoded data removed]"
          },
          "metadata": {}
        }
      ]
    }
  ]
}